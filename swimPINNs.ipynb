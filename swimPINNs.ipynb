{
 "cells": [
  {
   "cell_type": "code",
   "execution_count": 57,
   "id": "e71f4ece-0b53-4bc8-97bd-f10863be78a3",
   "metadata": {},
   "outputs": [],
   "source": [
    "import numpy as np\n",
    "import matplotlib.pyplot as plt\n",
    "from time import time\n",
    "\n",
    "from sklearn.pipeline import Pipeline\n",
    "\n",
    "\n",
    "from swimnetworks import (Dense, Linear)"
   ]
  },
  {
   "cell_type": "code",
   "execution_count": 58,
   "id": "bbe97c5a-c270-4585-afcd-678222b138e5",
   "metadata": {},
   "outputs": [],
   "source": [
    "def tanh_x(x):\n",
    "    \"\"\"First derivative of tanh.\n",
    "    \"\"\"\n",
    "    x = np.clip(x, -10, 10)\n",
    "    return 1/np.cosh(x)**2"
   ]
  },
  {
   "cell_type": "code",
   "execution_count": 59,
   "id": "16c68b50-93de-4338-bebe-4f44b27c8262",
   "metadata": {},
   "outputs": [],
   "source": [
    "# setup the problem ODE\n",
    "def u_true(x):\n",
    "    return np.sin(x[:,0]) + np.sin(10*x[:,1])\n",
    "def u_true_grad(x):\n",
    "    return np.cos(x[:,0]) + 10*np.cos(10*x[:,1])\n",
    "\n",
    "x_plot = np.linspace(-1*np.pi, 1*np.pi, 6000).reshape((-1, 1))\n",
    "x_p, y_p = np.meshgrid(x_plot, x_plot)\n",
    "# fig, ax = plt.subplots(1, 1)\n",
    "# ax.plot(x_plot, u_true(x_plot), label='Solution')\n",
    "# ax.plot(x_plot, u_true_grad(x_plot), label='Solution gradient')\n",
    "# ax.legend()\n"
   ]
  },
  {
   "cell_type": "code",
   "execution_count": 60,
   "id": "8dae8bb5-8e26-4bc6-a191-a78ba5a315bf",
   "metadata": {},
   "outputs": [],
   "source": [
    "activation = np.tanh\n",
    "activation_x = tanh_x\n",
    "\n",
    "def solve_swim_PINN(domain_train, u_true_train, u_grad_train, boundary_train, u_boundary_train, layer_width=20, random_state=1):\n",
    "    # construct good basis functions by sampling activation functions based on the known data\n",
    "    model_ansatz = Pipeline([\n",
    "        (\"hidden\", Dense(\n",
    "            layer_width=layer_width,\n",
    "            activation=activation,\n",
    "            parameter_sampler='tanh',\n",
    "            random_seed=random_state)),\n",
    "        (\"linear\", Linear(regularization_scale=1e-10))]\n",
    "    )\n",
    "    \n",
    "    model_ansatz.fit(domain_train, u_grad_train)\n",
    "    \n",
    "    hidden_layer = model_ansatz.steps[0][1]\n",
    "    linear_layer = model_ansatz.steps[1][1]\n",
    "\n",
    "    # setup the linear system to solve for the outer coefficients\n",
    "    # first, evaluate the gradient of the ansatz function\n",
    "    hidden_layer.activation = activation_x\n",
    "    # ux = activation_x(np.matmul(domain_train,hidden_layer.weights) + hidden_layer.biases)*hidden_layer.weights[0,:]\n",
    "    # print(ux)\n",
    "\n",
    "    ux = hidden_layer.predict(domain_train)*hidden_layer.weights[0,:]\n",
    "    uy = hidden_layer.predict(domain_train)*hidden_layer.weights[1,:]\n",
    "    uxy = ux+uy\n",
    "\n",
    "    # evaluate it on the boundary as well\n",
    "    hidden_layer.activation = activation\n",
    "    u_boundary = hidden_layer.predict(boundary_train)\n",
    "\n",
    "    # setup the linear system inputs and outputs\n",
    "    matrix_in = np.row_stack([\n",
    "        uxy,\n",
    "        u_boundary\n",
    "    ])\n",
    "    \n",
    "    # add the bias term\n",
    "    matrix_in = np.column_stack([\n",
    "        matrix_in,\n",
    "        np.concatenate([np.zeros(uxy.shape[0]), np.ones(u_boundary.shape[0])])\n",
    "    ])\n",
    "    \n",
    "    # construct the output matrix\n",
    "    matrix_out = np.row_stack([\n",
    "        u_grad_train,\n",
    "        u_boundary_train\n",
    "    ])\n",
    "\n",
    "    # solve\n",
    "    c = np.linalg.lstsq(matrix_in, matrix_out, rcond=1e-10)[0]\n",
    "    # print(c.shape)\n",
    "    linear_layer.weights = c[:-1]\n",
    "    linear_layer.biases = c[-1]\n",
    "\n",
    "    return model_ansatz"
   ]
  },
  {
   "cell_type": "code",
   "execution_count": 61,
   "id": "81abe347-d001-45ef-9fce-07913ba0c287",
   "metadata": {},
   "outputs": [],
   "source": [
    "random_state = 1\n",
    "n_pts_train = 150\n",
    "lims = [-1*np.pi, 1*np.pi]\n",
    "\n",
    "rng = np.random.default_rng(random_state)\n",
    "x = rng.uniform(lims[0], lims[1], size=(n_pts_train, 1))\n",
    "y = rng.uniform(lims[0], lims[1], size=(n_pts_train, 1))\n",
    "x_t, y_t = np.meshgrid(x, y)\n",
    "\n",
    "x_train = x_t.reshape(n_pts_train*n_pts_train,1)\n",
    "y_train = y_t.reshape(n_pts_train*n_pts_train,1)\n",
    "domain_train = np.column_stack([x_train, y_train]) \n",
    "left_boundary = np.column_stack([lims[0]*np.ones(n_pts_train), y])\n",
    "right_boundary = np.column_stack([lims[1]*np.ones(n_pts_train), y])\n",
    "top_boundary = np.column_stack([x, lims[1]*np.ones(n_pts_train)])\n",
    "bottom_boundary = np.column_stack([x, lims[0]*np.ones(n_pts_train)])\n",
    "boundary_train = np.row_stack([top_boundary, left_boundary, right_boundary, bottom_boundary])\n",
    "\n",
    "# x_boundary = np.array(lims).reshape((-1, 1))\n",
    "u_grad_train = u_true_grad(domain_train).reshape((-1,1))\n",
    "u_true_train = u_true(domain_train).reshape((-1,1))\n",
    "u_boundary_train = u_true(boundary_train).reshape((-1,1))"
   ]
  },
  {
   "cell_type": "code",
   "execution_count": 62,
   "id": "70855624-2ef4-423a-90ea-f54a99da1d66",
   "metadata": {},
   "outputs": [
    {
     "name": "stdout",
     "output_type": "stream",
     "text": [
      "[-0.73461329 -0.50230519 -1.59503472 ...  0.14263432 -0.69270023\n",
      " -1.65713802]\n",
      "[-0.73361489 -0.50157927 -1.59473174 ...  0.14188749 -0.69082495\n",
      " -1.65665163]\n",
      "0.31092782187606904\n"
     ]
    }
   ],
   "source": [
    "# fig, ax = plt.subplots()\n",
    "\n",
    "# layer_widths = np.linspace(10, 10000, 10).astype(int)\n",
    "layer_widths = 6000\n",
    "t0 = time()\n",
    "error = []\n",
    "# for k in range(len(ax)):\n",
    "model = solve_swim_PINN(domain_train, u_true_train, u_grad_train, boundary_train, u_boundary_train, layer_width=int(layer_widths), random_state=1)\n",
    "\n",
    "# # Z = model.predict(domain_train)\n",
    "# fig = plt.figure()\n",
    "# ax = fig.add_subplot(111, projection='3d')\n",
    "# ax.plot_surface(x_t, y_t, u_true(domain_train),cmap='viridis', label='True')\n",
    "# # ax.plot_surface(x_train, y_train, Z, cmap='viridis')\n",
    "# ax.set_xlabel('X')\n",
    "# ax.set_ylabel('Y')\n",
    "\n",
    "error = np.linalg.norm(np.squeeze(model.predict(domain_train))-u_true(domain_train))\n",
    "print(np.squeeze(model.predict(domain_train)))\n",
    "print(u_true(domain_train))\n",
    "print(error)\n",
    "# print(error)\n",
    "# ax.plot(x_plot, model.predict(x_plot), '--', label='Approximation')\n",
    "# ax.set_title(f'width={layer_widths}')\n",
    "# ax.legend()\n",
    "# # error.append(np.linalg.norm(model.predict(x_plot)-u_true(x_plot)))\n",
    "# print(\"time for solving and plotting:\", time()-t0, \"seconds.\")\n",
    "# print(error)"
   ]
  },
  {
   "cell_type": "code",
   "execution_count": null,
   "id": "15fc376f",
   "metadata": {},
   "outputs": [],
   "source": []
  }
 ],
 "metadata": {
  "kernelspec": {
   "display_name": "Python 3.10.12 64-bit",
   "language": "python",
   "name": "python3"
  },
  "language_info": {
   "codemirror_mode": {
    "name": "ipython",
    "version": 3
   },
   "file_extension": ".py",
   "mimetype": "text/x-python",
   "name": "python",
   "nbconvert_exporter": "python",
   "pygments_lexer": "ipython3",
   "version": "3.10.12"
  },
  "vscode": {
   "interpreter": {
    "hash": "916dbcbb3f70747c44a77c7bcd40155683ae19c65e1c03b4aa3499c5328201f1"
   }
  }
 },
 "nbformat": 4,
 "nbformat_minor": 5
}
